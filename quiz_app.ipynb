#this program is written by muhammad yousaf email:yousafsahiwal3@gmail.com
import tkinter as tk
from tkinter import messagebox
import random

quiz = [
    {"question": "What is the capital of France?", "options": ["Paris", "London", "Rome", "Berlin"], "answer": "Paris"},
    {"question": "What is the largest planet in our solar system?", "options": ["Earth", "Jupiter", "Mars", "Saturn"], "answer": "Jupiter"},
    {"question": "What is the smallest prime number?", "options": ["1", "2", "3", "4"], "answer": "2"},
    {"question": "Who wrote 'To Kill a Mockingbird'?", "options": ["Harper Lee", "Mark Twain", "Jane Austen", "Ernest Hemingway"], "answer": "Harper Lee"},
    {"question": "What is the chemical symbol for water?", "options": ["O2", "H2O", "CO2", "NaCl"], "answer": "H2O"},
    {"question": "What is the speed of light?", "options": ["300,000 km/s", "150,000 km/s", "100,000 km/s", "200,000 km/s"], "answer": "300,000 km/s"},
    {"question": "Who painted the Mona Lisa?", "options": ["Leonardo da Vinci", "Vincent van Gogh", "Pablo Picasso", "Claude Monet"], "answer": "Leonardo da Vinci"},
    {"question": "Which planet is known as the Red Planet?", "options": ["Mars", "Earth", "Jupiter", "Venus"], "answer": "Mars"},
    {"question": "What is the hardest natural substance on Earth?", "options": ["Gold", "Iron", "Diamond", "Silver"], "answer": "Diamond"},
    {"question": "Who is known as the father of computers?", "options": ["Charles Babbage", "Alan Turing", "Bill Gates", "Steve Jobs"], "answer": "Charles Babbage"},
    {"question": "Which gas is most abundant in the Earth's atmosphere?", "options": ["Oxygen", "Hydrogen", "Nitrogen", "Carbon Dioxide"], "answer": "Nitrogen"},
    {"question": "What is the boiling point of water?", "options": ["90°C", "95°C", "100°C", "105°C"], "answer": "100°C"},
    {"question": "Who developed the theory of relativity?", "options": ["Isaac Newton", "Galileo Galilei", "Albert Einstein", "Nikola Tesla"], "answer": "Albert Einstein"},
    {"question": "What is the capital of Japan?", "options": ["Seoul", "Beijing", "Bangkok", "Tokyo"], "answer": "Tokyo"},
    {"question": "Which element has the chemical symbol 'O'?", "options": ["Oxygen", "Gold", "Silver", "Iron"], "answer": "Oxygen"},
    {"question": "What is the tallest mountain in the world?", "options": ["K2", "Kangchenjunga", "Everest", "Makalu"], "answer": "Everest"},
    {"question": "What is the largest ocean on Earth?", "options": ["Atlantic", "Indian", "Arctic", "Pacific"], "answer": "Pacific"},
    {"question": "Who is known as the 'Bard of Avon'?", "options": ["Charles Dickens", "Jane Austen", "William Shakespeare", "Geoffrey Chaucer"], "answer": "William Shakespeare"},
    {"question": "What is the longest river in the world?", "options": ["Nile", "Amazon", "Yangtze", "Mississippi"], "answer": "Nile"},
    {"question": "Which planet is known for its rings?", "options": ["Mars", "Earth", "Saturn", "Venus"], "answer": "Saturn"},
    {"question": "What is the primary language spoken in Brazil?", "options": ["Spanish", "Portuguese", "English", "French"], "answer": "Portuguese"},
    {"question": "Who wrote '1984'?", "options": ["George Orwell", "Aldous Huxley", "J.K. Rowling", "Ernest Hemingway"], "answer": "George Orwell"},
    {"question": "What is the smallest country in the world?", "options": ["Monaco", "San Marino", "Liechtenstein", "Vatican City"], "answer": "Vatican City"},
    {"question": "What is the powerhouse of the cell?", "options": ["Nucleus", "Ribosome", "Mitochondria", "Chloroplast"], "answer": "Mitochondria"},
    {"question": "Who invented the telephone?", "options": ["Thomas Edison", "Alexander Graham Bell", "Nikola Tesla", "Guglielmo Marconi"], "answer": "Alexander Graham Bell"},
    {"question": "What is the largest mammal?", "options": ["Elephant", "Blue Whale", "Giraffe", "Great White Shark"], "answer": "Blue Whale"},
    {"question": "What is the capital of Canada?", "options": ["Toronto", "Vancouver", "Montreal", "Ottawa"], "answer": "Ottawa"},
    {"question": "What is the hardest rock?", "options": ["Granite", "Marble", "Diamond", "Slate"], "answer": "Diamond"},
    {"question": "Who painted the 'Starry Night'?", "options": ["Vincent van Gogh", "Pablo Picasso", "Claude Monet", "Leonardo da Vinci"], "answer": "Vincent van Gogh"},
    {"question": "What is the main ingredient in guacamole?", "options": ["Tomato", "Onion", "Avocado", "Cucumber"], "answer": "Avocado"},
    {"question": "Who discovered penicillin?", "options": ["Marie Curie", "Alexander Fleming", "Albert Einstein", "Isaac Newton"], "answer": "Alexander Fleming"},
    {"question": "Which planet is known as the Morning Star?", "options": ["Mars", "Venus", "Jupiter", "Mercury"], "answer": "Venus"},
    {"question": "Who wrote 'Pride and Prejudice'?", "options": ["Jane Austen", "Charlotte Bronte", "Charles Dickens", "George Eliot"], "answer": "Jane Austen"},
    {"question": "What is the largest desert in the world?", "options": ["Sahara", "Gobi", "Arabian", "Antarctic"], "answer": "Antarctic"},
    {"question": "What is the capital of Australia?", "options": ["Sydney", "Melbourne", "Canberra", "Brisbane"], "answer": "Canberra"},
    {"question": "Who was the first President of the United States?", "options": ["Thomas Jefferson", "John Adams", "Abraham Lincoln", "George Washington"], "answer": "George Washington"},
    {"question": "What is the chemical symbol for gold?", "options": ["Au", "Ag", "Fe", "Hg"], "answer": "Au"},
    {"question": "What is the largest bone in the human body?", "options": ["Skull", "Femur", "Humerus", "Tibia"], "answer": "Femur"},
    {"question": "Who wrote 'The Great Gatsby'?", "options": ["F. Scott Fitzgerald", "Ernest Hemingway", "Mark Twain", "John Steinbeck"], "answer": "F. Scott Fitzgerald"},
    {"question": "What is the longest bone in the human body?", "options": ["Femur", "Tibia", "Fibula", "Humerus"], "answer": "Femur"},
    {"question": "Who invented the light bulb?", "options": ["Nikola Tesla", "Alexander Graham Bell", "Thomas Edison", "Albert Einstein"], "answer": "Thomas Edison"},
    {"question": "What is the main ingredient in bread?", "options": ["Water", "Salt", "Flour", "Yeast"], "answer": "Flour"},
    {"question": "What is the chemical symbol for silver?", "options": ["Au", "Ag", "Fe", "Hg"], "answer": "Ag"},
    {"question": "What is the smallest ocean in the world?", "options": ["Indian", "Pacific", "Arctic", "Atlantic"], "answer": "Arctic"},
    {"question": "Who wrote 'Harry Potter'?", "options": ["J.K. Rowling", "J.R.R. Tolkien", "George R.R. Martin", "Suzanne Collins"], "answer": "J.K. Rowling"},
    {"question": "What is the tallest building in the world?", "options": ["Shanghai Tower", "Burj Khalifa", "One World Trade Center", "Petronas Towers"], "answer": "Burj Khalifa"},
]

class QuizApp:
    def __init__(self, root):
        self.root = root
        self.root.title("Quiz Application")
        self.root.geometry("600x400")
        self.root.config(bg="#2E2E2E")
        
        self.score = 0
        self.question_index = 0

        self.create_widgets()

    def create_widgets(self):
        self.question_label = tk.Label(self.root, text="", font=("Helvetica", 16), fg="#FFFFFF", bg="#2E2E2E")
        self.question_label.pack(pady=20)

        self.option_var = tk.StringVar()
        self.options_frame = tk.Frame(self.root, bg="#2E2E2E")
        self.options_frame.pack()

        self.option_buttons = []
        for _ in range(4):
            button = tk.Radiobutton(self.options_frame, text="", variable=self.option_var, value="", font=("Helvetica", 14), fg="#FFFFFF", bg="#2E2E2E", selectcolor="#4B4B4B", activebackground="#4B4B4B")
            button.pack(anchor="w", pady=5)
            self.option_buttons.append(button)

        self.next_button = tk.Button(self.root, text="Next", command=self.next_question, font=("Helvetica", 14), fg="#FFFFFF", bg="#4B4B4B", activebackground="#606060", padx=20, pady=10)
        self.next_button.pack(pady=20)

        self.show_question()

    def show_question(self):
        question_data = quiz[self.question_index]
        self.question_label.config(text=question_data["question"])

        for i, option in enumerate(question_data["options"]):
            self.option_buttons[i].config(text=option, value=option)
            if i == 0:
                self.option_var.set(option)  # Set default option

    def next_question(self):
        selected_option = self.option_var.get()
        correct_answer = quiz[self.question_index]["answer"]

        if selected_option == correct_answer:
            self.score += 1

        self.question_index += 1

        if self.question_index < len(quiz):
            self.show_question()
        else:
            self.show_result()

    def show_result(self):
        result_message = f"Your score is {self.score}/{len(quiz)}"
        messagebox.showinfo("Quiz Result", result_message)
        self.root.quit()

if __name__ == "__main__":
    root = tk.Tk()
    app = QuizApp(root)
    root.mainloop()

